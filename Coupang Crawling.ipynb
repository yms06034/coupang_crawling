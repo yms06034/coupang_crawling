{
 "cells": [
  {
   "cell_type": "code",
   "execution_count": 2,
   "id": "55796a06",
   "metadata": {},
   "outputs": [],
   "source": [
    "from fake_useragent import UserAgent\n",
    "from bs4 import BeautifulSoup\n",
    "from urllib import parse\n",
    "from datetime import datetime\n",
    "\n",
    "import time\n",
    "import requests\n",
    "import pandas as pd"
   ]
  },
  {
   "cell_type": "code",
   "execution_count": 6,
   "id": "a889ebc5",
   "metadata": {},
   "outputs": [
    {
     "data": {
      "text/plain": [
       "{'User-Agent': 'Mozilla/5.0 (Windows; U; Windows NT 5.2; en-US) AppleWebKit/532.0 (KHTML, like Gecko) Chrome/4.0.212.0 Safari/532.0'}"
      ]
     },
     "execution_count": 6,
     "metadata": {},
     "output_type": "execute_result"
    }
   ],
   "source": [
    "ua = UserAgent(browsers=['edge', 'chrome'])\n",
    "\n",
    "\n",
    "base_url = \"https://www.coupang.com/np/search?q={}&page={}\"\n",
    "\n",
    "keyword = \"양말\"\n",
    "headers = {\n",
    "    'User-Agent' : ua.random\n",
    "}\n",
    "\n",
    "result_list = []\n",
    "url = base_url.format(keyword, 1)\n",
    "res = requests.get(url, headers=headers)\n",
    "\n",
    "if res.status_code == 200:\n",
    "    soup = BeautifulSoup(res.text)\n",
    "    print(soup)\n",
    "    \n",
    "    last_page = soup.select_one('a.btn-last').text.strip()\n",
    "    print(last_page)"
   ]
  }
 ],
 "metadata": {
  "kernelspec": {
   "display_name": "Python 3 (ipykernel)",
   "language": "python",
   "name": "python3"
  },
  "language_info": {
   "codemirror_mode": {
    "name": "ipython",
    "version": 3
   },
   "file_extension": ".py",
   "mimetype": "text/x-python",
   "name": "python",
   "nbconvert_exporter": "python",
   "pygments_lexer": "ipython3",
   "version": "3.10.9"
  }
 },
 "nbformat": 4,
 "nbformat_minor": 5
}
